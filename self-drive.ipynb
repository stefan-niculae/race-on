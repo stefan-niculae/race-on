{
 "cells": [
  {
   "cell_type": "code",
   "execution_count": null,
   "metadata": {},
   "outputs": [],
   "source": [
    "%load_ext autoreload\n",
    "%autoreload 2\n",
    "# auto reload parameter/code changes in the files"
   ]
  },
  {
   "cell_type": "code",
   "execution_count": null,
   "metadata": {},
   "outputs": [],
   "source": [
    "import time\n",
    "\n",
    "from car_controls import Controls\n",
    "from car_camera import Camera\n",
    "from image_processing import Processor\n",
    "from viz import show_frame\n",
    "\n",
    "%matplotlib inline"
   ]
  },
  {
   "cell_type": "markdown",
   "metadata": {},
   "source": [
    "---"
   ]
  },
  {
   "cell_type": "code",
   "execution_count": null,
   "metadata": {},
   "outputs": [],
   "source": [
    "controls = Controls()\n",
    "camera = Camera()  # don't run this line twice in the same kernel or you'll have to restart it\n",
    "processor = Processor()"
   ]
  },
  {
   "cell_type": "code",
   "execution_count": null,
   "metadata": {},
   "outputs": [],
   "source": [
    "# Test motor and servo:\n",
    "# controls.test()"
   ]
  },
  {
   "cell_type": "code",
   "execution_count": null,
   "metadata": {},
   "outputs": [],
   "source": [
    "# Test camera:\n",
    "# try:\n",
    "#     for frame in camera.frames():\n",
    "#         show_frame(frame)\n",
    "# except KeyboardInterrupt:\n",
    "#     pass"
   ]
  },
  {
   "cell_type": "code",
   "execution_count": null,
   "metadata": {},
   "outputs": [],
   "source": [
    "# Run the image processing and car controls\n",
    "\n",
    "FPS = 5\n",
    "\n",
    "controls.neutral()\n",
    "try:\n",
    "    for frame in camera.frames():        \n",
    "        speed, angle = processor.process(frame)\n",
    "        \n",
    "        # Test image processing (next 2 lines):\n",
    "        #show_frame(frame)\n",
    "        #print('speed:', speed, 'angle:', angle)\n",
    "        \n",
    "        controls.move(speed)\n",
    "        controls.turn(angle)\n",
    "        \n",
    "        time.sleep(1. / FPS)\n",
    "        \n",
    "except KeyboardInterrupt:\n",
    "    controls.neutral()"
   ]
  },
  {
   "cell_type": "code",
   "execution_count": null,
   "metadata": {},
   "outputs": [],
   "source": [
    "camera.close()"
   ]
  }
 ],
 "metadata": {
  "kernelspec": {
   "display_name": "Python 3",
   "language": "python",
   "name": "python3"
  },
  "language_info": {
   "codemirror_mode": {
    "name": "ipython",
    "version": 3
   },
   "file_extension": ".py",
   "mimetype": "text/x-python",
   "name": "python",
   "nbconvert_exporter": "python",
   "pygments_lexer": "ipython3",
   "version": "3.5.3"
  }
 },
 "nbformat": 4,
 "nbformat_minor": 2
}
