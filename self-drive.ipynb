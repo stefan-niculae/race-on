{
 "cells": [
  {
   "cell_type": "code",
   "execution_count": null,
   "metadata": {},
   "outputs": [],
   "source": [
    "import time\n",
    "\n",
    "from car_controls import Controls\n",
    "from car_camera import Camera\n",
    "from image_processing import Processor"
   ]
  },
  {
   "cell_type": "code",
   "execution_count": null,
   "metadata": {},
   "outputs": [],
   "source": [
    "controls = Controls()\n",
    "camera = Camera()\n",
    "processor = Processor()"
   ]
  },
  {
   "cell_type": "code",
   "execution_count": null,
   "metadata": {},
   "outputs": [],
   "source": [
    "FPS = 5  # frames per second"
   ]
  },
  {
   "cell_type": "code",
   "execution_count": null,
   "metadata": {},
   "outputs": [],
   "source": [
    "controls.neutral()\n",
    "\n",
    "for frame in camera.frames():\n",
    "    try:\n",
    "        if controls.is_stopped():\n",
    "            break\n",
    "\n",
    "        speed, angle = processor.process(frame)\n",
    "        controls.move(speed)\n",
    "        controls.turn(angle)\n",
    "\n",
    "        time.sleep(1. / FPS)\n",
    "    \n",
    "    except KeyboardInterrupt:\n",
    "        controls.neutral()\n",
    "        # TODO check if this try-except should not be put outside the for loop"
   ]
  },
  {
   "cell_type": "code",
   "execution_count": null,
   "metadata": {},
   "outputs": [],
   "source": [
    "camera.close()"
   ]
  }
 ],
 "metadata": {
  "kernelspec": {
   "display_name": "Python 3",
   "language": "python",
   "name": "python3"
  },
  "language_info": {
   "codemirror_mode": {
    "name": "ipython",
    "version": 3
   },
   "file_extension": ".py",
   "mimetype": "text/x-python",
   "name": "python",
   "nbconvert_exporter": "python",
   "pygments_lexer": "ipython3",
   "version": "3.7.0"
  }
 },
 "nbformat": 4,
 "nbformat_minor": 2
}
